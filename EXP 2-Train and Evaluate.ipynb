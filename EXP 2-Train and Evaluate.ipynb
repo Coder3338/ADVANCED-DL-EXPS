{
  "nbformat": 4,
  "nbformat_minor": 0,
  "metadata": {
    "colab": {
      "provenance": [],
      "authorship_tag": "ABX9TyMhfAMxFhzJZxxgZL6GVKnY",
      "include_colab_link": true
    },
    "kernelspec": {
      "name": "python3",
      "display_name": "Python 3"
    },
    "language_info": {
      "name": "python"
    }
  },
  "cells": [
    {
      "cell_type": "markdown",
      "metadata": {
        "id": "view-in-github",
        "colab_type": "text"
      },
      "source": [
        "<a href=\"https://colab.research.google.com/github/Coder3338/ADVANCED-DL-EXPS/blob/main/Advanced_DL_EXP_2.ipynb\" target=\"_parent\"><img src=\"https://colab.research.google.com/assets/colab-badge.svg\" alt=\"Open In Colab\"/></a>"
      ]
    },
    {
      "cell_type": "code",
      "execution_count": 2,
      "metadata": {
        "colab": {
          "base_uri": "https://localhost:8080/"
        },
        "id": "-Cq7cNKOw-FS",
        "outputId": "0187948d-36fb-43a5-d083-4d61c76307ab"
      },
      "outputs": [
        {
          "output_type": "stream",
          "name": "stdout",
          "text": [
            "Epoch 1/5\n",
            "1500/1500 [==============================] - 12s 7ms/step - loss: 0.5107 - accuracy: 0.8195 - val_loss: 0.3870 - val_accuracy: 0.8595\n",
            "Epoch 2/5\n",
            "1500/1500 [==============================] - 10s 7ms/step - loss: 0.3776 - accuracy: 0.8621 - val_loss: 0.3667 - val_accuracy: 0.8668\n",
            "Epoch 3/5\n",
            "1500/1500 [==============================] - 9s 6ms/step - loss: 0.3386 - accuracy: 0.8762 - val_loss: 0.3555 - val_accuracy: 0.8752\n",
            "Epoch 4/5\n",
            "1500/1500 [==============================] - 9s 6ms/step - loss: 0.3163 - accuracy: 0.8821 - val_loss: 0.3832 - val_accuracy: 0.8627\n",
            "Epoch 5/5\n",
            "1500/1500 [==============================] - 9s 6ms/step - loss: 0.2987 - accuracy: 0.8894 - val_loss: 0.3509 - val_accuracy: 0.8720\n",
            "313/313 [==============================] - 1s 3ms/step - loss: 0.3791 - accuracy: 0.8643\n",
            "Test accuracy: 0.8643\n"
          ]
        }
      ],
      "source": [
        "import tensorflow as tf\n",
        "from tensorflow.keras.datasets import fashion_mnist\n",
        "from tensorflow.keras.models import Sequential\n",
        "from tensorflow.keras.layers import Dense, Flatten\n",
        "from tensorflow.keras.utils import to_categorical\n",
        "\n",
        "# Load and preprocess the Fashion MNIST dataset\n",
        "(x_train, y_train), (x_test, y_test) = fashion_mnist.load_data()\n",
        "x_train, x_test = x_train / 255.0, x_test / 255.0\n",
        "y_train, y_test = to_categorical(y_train, 10), to_categorical(y_test, 10)\n",
        "\n",
        "model = Sequential([\n",
        "    Flatten(input_shape=(28, 28)),  # Input shape for Fashion MNIST\n",
        "    Dense(128, activation='relu'),\n",
        "    Dense(64, activation='relu'),\n",
        "    Dense(10, activation='softmax')\n",
        "])\n",
        "\n",
        "model.compile(optimizer='adam', loss='categorical_crossentropy', metrics=['accuracy'])\n",
        "model.fit(x_train, y_train, epochs=5, batch_size=32, validation_split=0.2)\n",
        "test_loss, test_accuracy = model.evaluate(x_test, y_test)\n",
        "print(f\"Test accuracy: {test_accuracy:.4f}\")\n"
      ]
    }
  ]
}
