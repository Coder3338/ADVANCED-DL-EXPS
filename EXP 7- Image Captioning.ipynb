{
  "nbformat": 4,
  "nbformat_minor": 0,
  "metadata": {
    "colab": {
      "provenance": [],
      "authorship_tag": "ABX9TyMgQQ7CTJudZ7TduGeAPOp2",
      "include_colab_link": true
    },
    "kernelspec": {
      "name": "python3",
      "display_name": "Python 3"
    },
    "language_info": {
      "name": "python"
    }
  },
  "cells": [
    {
      "cell_type": "markdown",
      "metadata": {
        "id": "view-in-github",
        "colab_type": "text"
      },
      "source": [
        "<a href=\"https://colab.research.google.com/github/Coder3338/ADVANCED-DL-EXPS/blob/main/Advanced_DL_Exp_7.ipynb\" target=\"_parent\"><img src=\"https://colab.research.google.com/assets/colab-badge.svg\" alt=\"Open In Colab\"/></a>"
      ]
    },
    {
      "cell_type": "code",
      "execution_count": 9,
      "metadata": {
        "colab": {
          "base_uri": "https://localhost:8080/"
        },
        "id": "MB8DBm3HG4c7",
        "outputId": "ee5e8ba9-b967-4e04-8c66-a632c052df30"
      },
      "outputs": [
        {
          "output_type": "stream",
          "name": "stdout",
          "text": [
            "Image 1 downloaded\n",
            "Image 2 downloaded\n",
            "Image 3 downloaded\n"
          ]
        }
      ],
      "source": [
        "import requests\n",
        "from PIL import Image, ImageDraw, ImageFont\n",
        "import os\n",
        "\n",
        "# Function to download images\n",
        "def download_image(url, filename):\n",
        "    response = requests.get(url)\n",
        "    if response.status_code == 200:\n",
        "        with open(filename, 'wb') as f:\n",
        "            f.write(response.content)\n",
        "\n",
        "# URLs for images\n",
        "image_urls = [\n",
        "    \"https://new-url.com/image1.jpg\",\n",
        "    \"https://new-url.com/image2.jpg\",\n",
        "    \"https://new-url.com/image3.jpg\"\n",
        "]\n",
        "\n",
        "# Captions for the images\n",
        "captions = [\n",
        "    \"Image Caption 1\",\n",
        "    \"Image Caption 2\",\n",
        "    \"Image Caption 3\"\n",
        "]\n",
        "\n",
        "# Create directories to save images if they don't exist\n",
        "os.makedirs(\"DownloadedImages\", exist_ok=True)\n",
        "os.makedirs(\"CaptionedImages\", exist_ok=True)\n",
        "\n",
        "# Downloading images\n",
        "for idx, url in enumerate(image_urls):\n",
        "    download_image(url, f\"DownloadedImages/img{idx + 1}.jpg\")\n",
        "    print(f\"Image {idx + 1} downloaded\")\n",
        "\n",
        "# Adding captions to downloaded images\n",
        "for idx, filename in enumerate(os.listdir(\"DownloadedImages\")):\n",
        "    if filename.endswith(('.jpg', '.jpeg', '.png')):\n",
        "        img = Image.open(f\"DownloadedImages/{filename}\")\n",
        "        draw = ImageDraw.Draw(img)\n",
        "        font = ImageFont.truetype(\"arial.ttf\", 30)  # Change font path and size as needed\n",
        "        caption = captions[idx].upper()\n",
        "\n",
        "        draw.text((20, 20), caption, fill='white', font=font)\n",
        "\n",
        "        img.save(f\"CaptionedImages/{filename}\")\n",
        "        print(f'Caption added to {filename}')\n"
      ]
    }
  ]
}
