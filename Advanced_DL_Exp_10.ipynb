{
  "nbformat": 4,
  "nbformat_minor": 0,
  "metadata": {
    "colab": {
      "provenance": [],
      "authorship_tag": "ABX9TyPtw/5y46G4CJvBzG25kgJj",
      "include_colab_link": true
    },
    "kernelspec": {
      "name": "python3",
      "display_name": "Python 3"
    },
    "language_info": {
      "name": "python"
    }
  },
  "cells": [
    {
      "cell_type": "markdown",
      "metadata": {
        "id": "view-in-github",
        "colab_type": "text"
      },
      "source": [
        "<a href=\"https://colab.research.google.com/github/Coder3338/ADVANCED-DL-EXPS/blob/main/Advanced_DL_Exp_10.ipynb\" target=\"_parent\"><img src=\"https://colab.research.google.com/assets/colab-badge.svg\" alt=\"Open In Colab\"/></a>"
      ]
    },
    {
      "cell_type": "code",
      "execution_count": 6,
      "metadata": {
        "colab": {
          "base_uri": "https://localhost:8080/"
        },
        "id": "0VfVOFXkSucA",
        "outputId": "f5fea49b-8ea0-44a9-ba72-fd0b793bba5b"
      },
      "outputs": [
        {
          "output_type": "stream",
          "name": "stderr",
          "text": [
            "WARNING:tensorflow:6 out of the last 6 calls to <function Model.make_predict_function.<locals>.predict_function at 0x7abf28ac5b40> triggered tf.function retracing. Tracing is expensive and the excessive number of tracings could be due to (1) creating @tf.function repeatedly in a loop, (2) passing tensors with different shapes, (3) passing Python objects instead of tensors. For (1), please define your @tf.function outside of the loop. For (2), @tf.function has reduce_retracing=True option that can avoid unnecessary retracing. For (3), please refer to https://www.tensorflow.org/guide/function#controlling_retracing and https://www.tensorflow.org/api_docs/python/tf/function for  more details.\n"
          ]
        },
        {
          "output_type": "stream",
          "name": "stdout",
          "text": [
            "1/1 [==============================] - 0s 401ms/step\n",
            "Sentence: 'This is impressive' - Sentiment: Positive (0.50)\n",
            "Sentence: 'Absolutely dreadful' - Sentiment: Negative (0.50)\n",
            "Sentence: 'Keep it up!' - Sentiment: Positive (0.50)\n",
            "Sentence: 'Quite unsatisfactory' - Sentiment: Negative (0.50)\n"
          ]
        }
      ],
      "source": [
        "import numpy as np\n",
        "import tensorflow as tf\n",
        "from tensorflow.keras.models import Sequential\n",
        "from tensorflow.keras.layers import Embedding, LSTM, Dense\n",
        "from tensorflow.keras.preprocessing.text import Tokenizer\n",
        "from tensorflow.keras.preprocessing.sequence import pad_sequences\n",
        "sentences = [\n",
        "    \"I really enjoy using this\",\n",
        "    \"It's a disaster\",\n",
        "    \"Fantastic work!\",\n",
        "    \"Could be better\",\n",
        "    \"Outstanding performance\"\n",
        "]\n",
        "labels = [1, 0, 1, 0, 1]\n",
        "tokenizer = Tokenizer(num_words=1000, oov_token=\"\")\n",
        "tokenizer.fit_on_texts(sentences)\n",
        "word_index = tokenizer.word_index\n",
        "sequences = tokenizer.texts_to_sequences(sentences)\n",
        "max_sequence_length = max([len(seq) for seq in sequences])\n",
        "sequences_padded = pad_sequences(sequences, maxlen=max_sequence_length, padding=\"post\")\n",
        "model = Sequential()\n",
        "model.add(Embedding(input_dim=len(word_index) + 1, output_dim=64, input_length=max_sequence_length))\n",
        "model.add(LSTM(64))\n",
        "model.add(Dense(1, activation=\"sigmoid\"))\n",
        "model.compile(loss=\"binary_crossentropy\", optimizer=\"adam\", metrics=[\"accuracy\"])\n",
        "test_sentences = [\n",
        "    \"This is impressive\",\n",
        "    \"Absolutely dreadful\",\n",
        "    \"Keep it up!\",\n",
        "    \"Quite unsatisfactory\"\n",
        "]\n",
        "test_sequences = tokenizer.texts_to_sequences(test_sentences)\n",
        "test_sequences_padded = pad_sequences(test_sequences, maxlen=max_sequence_length, padding=\"post\")\n",
        "predictions = model.predict(test_sequences_padded)\n",
        "for i, sentence in enumerate(test_sentences):\n",
        "    sentiment = \"Positive\" if predictions[i] > 0.5 else \"Negative\"\n",
        "    print(f\"Sentence: '{sentence}' - Sentiment: {sentiment} ({predictions[i][0]:.2f})\")\n"
      ]
    }
  ]
}