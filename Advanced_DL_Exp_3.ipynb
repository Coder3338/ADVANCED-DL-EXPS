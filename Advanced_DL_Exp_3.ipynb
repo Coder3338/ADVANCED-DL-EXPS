{
  "nbformat": 4,
  "nbformat_minor": 0,
  "metadata": {
    "colab": {
      "provenance": [],
      "authorship_tag": "ABX9TyPrYrZG2Ti/ylNXqvuPyjif",
      "include_colab_link": true
    },
    "kernelspec": {
      "name": "python3",
      "display_name": "Python 3"
    },
    "language_info": {
      "name": "python"
    }
  },
  "cells": [
    {
      "cell_type": "markdown",
      "metadata": {
        "id": "view-in-github",
        "colab_type": "text"
      },
      "source": [
        "<a href=\"https://colab.research.google.com/github/Coder3338/ADVANCED-DL-EXPS/blob/main/Advanced_DL_Exp_3.ipynb\" target=\"_parent\"><img src=\"https://colab.research.google.com/assets/colab-badge.svg\" alt=\"Open In Colab\"/></a>"
      ]
    },
    {
      "cell_type": "code",
      "execution_count": 1,
      "metadata": {
        "colab": {
          "base_uri": "https://localhost:8080/"
        },
        "id": "gwa1o4XX52k_",
        "outputId": "b6a64bb8-eb45-4b12-a8a7-8667be824233"
      },
      "outputs": [
        {
          "output_type": "stream",
          "name": "stdout",
          "text": [
            "Epoch 1/10\n",
            "40/40 [==============================] - 3s 30ms/step - loss: 0.6226 - accuracy: 0.6062 - val_loss: 0.5916 - val_accuracy: 0.6313\n",
            "Epoch 2/10\n",
            "40/40 [==============================] - 0s 11ms/step - loss: 0.5855 - accuracy: 0.6078 - val_loss: 0.5629 - val_accuracy: 0.6313\n",
            "Epoch 3/10\n",
            "40/40 [==============================] - 0s 11ms/step - loss: 0.5561 - accuracy: 0.6227 - val_loss: 0.5347 - val_accuracy: 0.6500\n",
            "Epoch 4/10\n",
            "40/40 [==============================] - 1s 14ms/step - loss: 0.5253 - accuracy: 0.6586 - val_loss: 0.5063 - val_accuracy: 0.6812\n",
            "Epoch 5/10\n",
            "40/40 [==============================] - 1s 16ms/step - loss: 0.4948 - accuracy: 0.7008 - val_loss: 0.4777 - val_accuracy: 0.7125\n",
            "Epoch 6/10\n",
            "40/40 [==============================] - 1s 15ms/step - loss: 0.4637 - accuracy: 0.7508 - val_loss: 0.4484 - val_accuracy: 0.7375\n",
            "Epoch 7/10\n",
            "40/40 [==============================] - 1s 15ms/step - loss: 0.4324 - accuracy: 0.7977 - val_loss: 0.4184 - val_accuracy: 0.8125\n",
            "Epoch 8/10\n",
            "40/40 [==============================] - 0s 11ms/step - loss: 0.4005 - accuracy: 0.8313 - val_loss: 0.3894 - val_accuracy: 0.8500\n",
            "Epoch 9/10\n",
            "40/40 [==============================] - 1s 15ms/step - loss: 0.3696 - accuracy: 0.8687 - val_loss: 0.3606 - val_accuracy: 0.8813\n",
            "Epoch 10/10\n",
            "40/40 [==============================] - 0s 11ms/step - loss: 0.3411 - accuracy: 0.8930 - val_loss: 0.3352 - val_accuracy: 0.9094\n",
            "13/13 [==============================] - 0s 4ms/step\n",
            "Test accuracy: 0.9025\n"
          ]
        }
      ],
      "source": [
        "import numpy as np\n",
        "import tensorflow as tf\n",
        "from tensorflow.keras.models import Sequential\n",
        "from tensorflow.keras.layers import Dense, Input\n",
        "from sklearn.model_selection import train_test_split\n",
        "from sklearn.metrics import accuracy_score\n",
        "np.random.seed(36)\n",
        "X = np.random.rand(2000, 2)\n",
        "y = (X[:, 0] ** 2 + X[:, 1] ** 2 > 0.5).astype(int)\n",
        "X_train, X_test, y_train, y_test = train_test_split(X, y, test_size=0.2, random_state=42)\n",
        "model = Sequential([\n",
        "    Input(shape=(2)),\n",
        "    Dense(64, activation='relu'),\n",
        "    Dense(1, activation='sigmoid')\n",
        "])\n",
        "model.compile(optimizer='adam', loss='binary_crossentropy', metrics=['accuracy'])\n",
        "model.fit(X_train, y_train, epochs=10, batch_size=32, validation_split=0.2)\n",
        "y_pred = model.predict(X_test)\n",
        "y_pred_binary = (y_pred > 0.5).astype(int)\n",
        "test_accuracy = accuracy_score(y_test, y_pred_binary)\n",
        "print(f\"Test accuracy: {test_accuracy:.4f}\")\n"
      ]
    }
  ]
}