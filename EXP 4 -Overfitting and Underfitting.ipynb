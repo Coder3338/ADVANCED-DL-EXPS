{
  "nbformat": 4,
  "nbformat_minor": 0,
  "metadata": {
    "colab": {
      "provenance": [],
      "authorship_tag": "ABX9TyN7f0whfH7NbcnI4C+vDc1q",
      "include_colab_link": true
    },
    "kernelspec": {
      "name": "python3",
      "display_name": "Python 3"
    },
    "language_info": {
      "name": "python"
    }
  },
  "cells": [
    {
      "cell_type": "markdown",
      "metadata": {
        "id": "view-in-github",
        "colab_type": "text"
      },
      "source": [
        "<a href=\"https://colab.research.google.com/github/Coder3338/ADVANCED-DL-EXPS/blob/main/Advanced_DL_Exp_4.ipynb\" target=\"_parent\"><img src=\"https://colab.research.google.com/assets/colab-badge.svg\" alt=\"Open In Colab\"/></a>"
      ]
    },
    {
      "cell_type": "code",
      "execution_count": 4,
      "metadata": {
        "colab": {
          "base_uri": "https://localhost:8080/"
        },
        "id": "rYm4ZMoQ8Rsk",
        "outputId": "3954dfe4-19ec-4011-da2c-ffb082cd79ac"
      },
      "outputs": [
        {
          "output_type": "stream",
          "name": "stdout",
          "text": [
            "Max leaf nodes: 5\t Mean Absolute Error: 385696.54\n",
            "Max leaf nodes: 50\t Mean Absolute Error: 294630.93\n",
            "Max leaf nodes: 100\t Mean Absolute Error: 290004.56\n",
            "Max leaf nodes: 200\t Mean Absolute Error: 288160.66\n",
            "Max leaf nodes: 500\t Mean Absolute Error: 296356.25\n"
          ]
        }
      ],
      "source": [
        "from sklearn.metrics import mean_absolute_error\n",
        "from sklearn.tree import DecisionTreeRegressor\n",
        "import pandas as pd\n",
        "melbourne_file_path = '../input/melbourne-housing-snapshot/melb_data.csv'\n",
        "melbourne_data = pd.read_csv('melb_data.csv')\n",
        "filtered_melbourne_data = melbourne_data.dropna(axis=0)\n",
        "y = filtered_melbourne_data['Price']\n",
        "melbourne_features = ['Rooms', 'Bedroom2', 'Bathroom', 'Lattitude', 'Longtitude']\n",
        "X = filtered_melbourne_data[melbourne_features]\n",
        "from sklearn.model_selection import train_test_split\n",
        "train_X, val_X, train_y, val_y = train_test_split(X, y, random_state=0)\n",
        "def get_mae(max_leaf_nodes, train_X, val_X, train_y, val_y):\n",
        "    model = DecisionTreeRegressor(max_leaf_nodes=max_leaf_nodes, random_state=0)\n",
        "    model.fit(train_X, train_y)\n",
        "    preds_val = model.predict(val_X)\n",
        "    mae = mean_absolute_error(val_y, preds_val)\n",
        "    return mae\n",
        "max_leaf_nodes_list = [5, 50, 100, 200, 500]\n",
        "for max_leaf_nodes in max_leaf_nodes_list:\n",
        "    my_mae = get_mae(max_leaf_nodes, train_X, val_X, train_y, val_y)\n",
        "    print(f\"Max leaf nodes: {max_leaf_nodes}\\t Mean Absolute Error: {my_mae:.2f}\")\n"
      ]
    }
  ]
}
