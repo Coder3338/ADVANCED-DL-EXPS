{
  "nbformat": 4,
  "nbformat_minor": 0,
  "metadata": {
    "colab": {
      "provenance": [],
      "authorship_tag": "ABX9TyMHEcfzneNCSCINVpe2gM1j",
      "include_colab_link": true
    },
    "kernelspec": {
      "name": "python3",
      "display_name": "Python 3"
    },
    "language_info": {
      "name": "python"
    }
  },
  "cells": [
    {
      "cell_type": "markdown",
      "metadata": {
        "id": "view-in-github",
        "colab_type": "text"
      },
      "source": [
        "<a href=\"https://colab.research.google.com/github/Coder3338/ADVANCED-DL-EXPS/blob/main/Advanced_DL_Exp_9.ipynb\" target=\"_parent\"><img src=\"https://colab.research.google.com/assets/colab-badge.svg\" alt=\"Open In Colab\"/></a>"
      ]
    },
    {
      "cell_type": "code",
      "execution_count": 1,
      "metadata": {
        "colab": {
          "base_uri": "https://localhost:8080/"
        },
        "id": "QVAicBA6O-RA",
        "outputId": "f3acbcdb-01cc-4b02-ecb6-5573f0c8b05c"
      },
      "outputs": [
        {
          "output_type": "stream",
          "name": "stdout",
          "text": [
            "Downloading data from https://storage.googleapis.com/tensorflow/tf-keras-datasets/mnist.npz\n",
            "11490434/11490434 [==============================] - 0s 0us/step\n",
            "Epoch 1/10\n",
            "300/300 - 67s - loss: 0.3637 - accuracy: 0.8892 - val_loss: 0.0766 - val_accuracy: 0.9762 - 67s/epoch - 223ms/step\n",
            "Epoch 2/10\n",
            "300/300 - 59s - loss: 0.1200 - accuracy: 0.9646 - val_loss: 0.0483 - val_accuracy: 0.9840 - 59s/epoch - 196ms/step\n",
            "Epoch 3/10\n",
            "300/300 - 58s - loss: 0.0891 - accuracy: 0.9733 - val_loss: 0.0428 - val_accuracy: 0.9852 - 58s/epoch - 193ms/step\n",
            "Epoch 4/10\n",
            "300/300 - 58s - loss: 0.0727 - accuracy: 0.9790 - val_loss: 0.0346 - val_accuracy: 0.9884 - 58s/epoch - 193ms/step\n",
            "Epoch 5/10\n",
            "300/300 - 58s - loss: 0.0615 - accuracy: 0.9812 - val_loss: 0.0352 - val_accuracy: 0.9880 - 58s/epoch - 192ms/step\n",
            "Epoch 6/10\n",
            "300/300 - 58s - loss: 0.0548 - accuracy: 0.9834 - val_loss: 0.0318 - val_accuracy: 0.9889 - 58s/epoch - 192ms/step\n",
            "Epoch 7/10\n",
            "300/300 - 58s - loss: 0.0490 - accuracy: 0.9855 - val_loss: 0.0325 - val_accuracy: 0.9894 - 58s/epoch - 193ms/step\n",
            "Epoch 8/10\n",
            "300/300 - 58s - loss: 0.0437 - accuracy: 0.9866 - val_loss: 0.0293 - val_accuracy: 0.9905 - 58s/epoch - 192ms/step\n",
            "Epoch 9/10\n",
            "300/300 - 58s - loss: 0.0398 - accuracy: 0.9876 - val_loss: 0.0261 - val_accuracy: 0.9914 - 58s/epoch - 192ms/step\n",
            "Epoch 10/10\n",
            "300/300 - 58s - loss: 0.0371 - accuracy: 0.9884 - val_loss: 0.0255 - val_accuracy: 0.9918 - 58s/epoch - 193ms/step\n",
            "Test accuracy: 99.18%\n"
          ]
        }
      ],
      "source": [
        "import tensorflow as tf\n",
        "from tensorflow.keras.datasets import mnist\n",
        "from tensorflow.keras.models import Sequential\n",
        "from tensorflow.keras.layers import Conv2D, MaxPooling2D, Flatten, Dense, Dropout\n",
        "from tensorflow.keras.utils import to_categorical\n",
        "\n",
        "# Load and preprocess the dataset\n",
        "(x_train, y_train), (x_test, y_test) = mnist.load_data()\n",
        "\n",
        "# Resize images to 32x32\n",
        "x_train_resized = tf.image.resize(x_train[..., tf.newaxis], (32, 32))\n",
        "x_test_resized = tf.image.resize(x_test[..., tf.newaxis], (32, 32))\n",
        "\n",
        "# Normalize pixel values\n",
        "x_train_resized = x_train_resized / 255.0\n",
        "x_test_resized = x_test_resized / 255.0\n",
        "\n",
        "y_train = to_categorical(y_train, 10)\n",
        "y_test = to_categorical(y_test, 10)\n",
        "\n",
        "# Build the CNN model with changed input shape\n",
        "model = Sequential()\n",
        "model.add(Conv2D(32, kernel_size=(3, 3), activation='relu', input_shape=(32, 32, 1)))  # Change input shape\n",
        "model.add(MaxPooling2D(pool_size=(2, 2)))\n",
        "model.add(Conv2D(64, kernel_size=(3, 3), activation='relu'))\n",
        "model.add(MaxPooling2D(pool_size=(2, 2)))\n",
        "model.add(Flatten())\n",
        "model.add(Dense(128, activation='relu'))\n",
        "model.add(Dropout(0.5))\n",
        "model.add(Dense(10, activation='softmax'))\n",
        "model.compile(loss='categorical_crossentropy', optimizer='adam', metrics=['accuracy'])\n",
        "\n",
        "# Train the model\n",
        "model.fit(x_train_resized, y_train, validation_data=(x_test_resized, y_test), epochs=10, batch_size=200, verbose=2)\n",
        "\n",
        "# Evaluate the model\n",
        "test_loss, test_acc = model.evaluate(x_test_resized, y_test, verbose=0)\n",
        "print(f'Test accuracy: {test_acc*100:.2f}%')\n"
      ]
    }
  ]
}